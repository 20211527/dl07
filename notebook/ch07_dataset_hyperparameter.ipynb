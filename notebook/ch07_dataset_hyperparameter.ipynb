{
  "nbformat": 4,
  "nbformat_minor": 0,
  "metadata": {
    "colab": {
      "provenance": [],
      "authorship_tag": "ABX9TyO/QcVj2CktqC5B9p5vKH5J",
      "include_colab_link": true
    },
    "kernelspec": {
      "name": "python3",
      "display_name": "Python 3"
    },
    "language_info": {
      "name": "python"
    }
  },
  "cells": [
    {
      "cell_type": "markdown",
      "metadata": {
        "id": "view-in-github",
        "colab_type": "text"
      },
      "source": [
        "<a href=\"https://colab.research.google.com/github/20211527/dl07/blob/main/notebook/ch07_dataset_hyperparameter.ipynb\" target=\"_parent\"><img src=\"https://colab.research.google.com/assets/colab-badge.svg\" alt=\"Open In Colab\"/></a>"
      ]
    },
    {
      "cell_type": "markdown",
      "source": [
        "# Datasets\n",
        "\n",
        "- Hyperparameter"
      ],
      "metadata": {
        "id": "M265jCQDGNz0"
      }
    },
    {
      "cell_type": "code",
      "source": [
        "#dataset\n",
        "import numpy as np\n",
        "\n",
        "array = np.array([[[1,2,3],[4,5,6]],[[7,8,9],[10,11,12]],[[13,14,15],[16,17,18]]])\n",
        "array.shape, array.ndim, array.dtype\n",
        "\n",
        "\n"
      ],
      "metadata": {
        "colab": {
          "base_uri": "https://localhost:8080/"
        },
        "id": "Osm4Y4c3JOi4",
        "outputId": "62b30a9b-7753-489c-da92-b99dbbfea8cb"
      },
      "execution_count": 4,
      "outputs": [
        {
          "output_type": "execute_result",
          "data": {
            "text/plain": [
              "((3, 2, 3), 3, dtype('int64'))"
            ]
          },
          "metadata": {},
          "execution_count": 4
        }
      ]
    },
    {
      "cell_type": "code",
      "source": [
        "arr1 = np.empty((3,4,5,6)) #zeros(),ones()\n",
        "arr1.shape"
      ],
      "metadata": {
        "colab": {
          "base_uri": "https://localhost:8080/"
        },
        "id": "s52Kax6-Jydo",
        "outputId": "cbb7071e-3086-48d4-d458-15de77f36cfa"
      },
      "execution_count": 5,
      "outputs": [
        {
          "output_type": "execute_result",
          "data": {
            "text/plain": [
              "(3, 4, 5, 6)"
            ]
          },
          "metadata": {},
          "execution_count": 5
        }
      ]
    },
    {
      "cell_type": "code",
      "source": [
        "#  vector records\n",
        "arr2 = np.random.randn(500, 8) #정규분포\n",
        "arr2.shape"
      ],
      "metadata": {
        "colab": {
          "base_uri": "https://localhost:8080/"
        },
        "id": "-cwL8a1-KFcA",
        "outputId": "58f727c7-d104-492d-944c-f46136d3f5ff"
      },
      "execution_count": 7,
      "outputs": [
        {
          "output_type": "execute_result",
          "data": {
            "text/plain": [
              "(500, 8)"
            ]
          },
          "metadata": {},
          "execution_count": 7
        }
      ]
    },
    {
      "cell_type": "code",
      "source": [
        "# color images\n",
        "arr3 = np.empty((60000,28,28,3)) #28 by 28, rbg3개의 만든 6만개 데이터\n",
        "arr3.shape"
      ],
      "metadata": {
        "colab": {
          "base_uri": "https://localhost:8080/"
        },
        "id": "9gsnf-6jKgMV",
        "outputId": "d5b84d76-8b31-4012-ceee-08648534cde4"
      },
      "execution_count": 9,
      "outputs": [
        {
          "output_type": "execute_result",
          "data": {
            "text/plain": [
              "(60000, 28, 28, 3)"
            ]
          },
          "metadata": {},
          "execution_count": 9
        }
      ]
    },
    {
      "cell_type": "code",
      "source": [
        "#  time series\n",
        "arr4 = np.random.randn(20,365,4 ) # 365day 동안 20명의 4개의 중요 건강  특징을 측정한 데이터\n",
        "arr4.shape"
      ],
      "metadata": {
        "colab": {
          "base_uri": "https://localhost:8080/"
        },
        "id": "zqmThzDELEGh",
        "outputId": "a510587b-c718-4df3-d7d3-022e1210dd22"
      },
      "execution_count": 10,
      "outputs": [
        {
          "output_type": "execute_result",
          "data": {
            "text/plain": [
              "(20, 365, 4)"
            ]
          },
          "metadata": {},
          "execution_count": 10
        }
      ]
    },
    {
      "cell_type": "markdown",
      "source": [
        "## Hyperparameter search\n",
        "- epochs\n",
        "-batch-size"
      ],
      "metadata": {
        "id": "pVXpJUiGO7XD"
      }
    },
    {
      "cell_type": "code",
      "source": [
        "!pip install scikeras"
      ],
      "metadata": {
        "colab": {
          "base_uri": "https://localhost:8080/"
        },
        "id": "VK5iKbRFPMY-",
        "outputId": "ebc35079-8dc8-4212-b87c-0c06cd35598c"
      },
      "execution_count": 11,
      "outputs": [
        {
          "output_type": "stream",
          "name": "stdout",
          "text": [
            "Looking in indexes: https://pypi.org/simple, https://us-python.pkg.dev/colab-wheels/public/simple/\n",
            "Collecting scikeras\n",
            "  Downloading scikeras-0.10.0-py3-none-any.whl (27 kB)\n",
            "Requirement already satisfied: scikit-learn>=1.0.0 in /usr/local/lib/python3.10/dist-packages (from scikeras) (1.2.2)\n",
            "Requirement already satisfied: packaging>=0.21 in /usr/local/lib/python3.10/dist-packages (from scikeras) (23.1)\n",
            "Requirement already satisfied: scipy>=1.3.2 in /usr/local/lib/python3.10/dist-packages (from scikit-learn>=1.0.0->scikeras) (1.10.1)\n",
            "Requirement already satisfied: threadpoolctl>=2.0.0 in /usr/local/lib/python3.10/dist-packages (from scikit-learn>=1.0.0->scikeras) (3.1.0)\n",
            "Requirement already satisfied: numpy>=1.17.3 in /usr/local/lib/python3.10/dist-packages (from scikit-learn>=1.0.0->scikeras) (1.22.4)\n",
            "Requirement already satisfied: joblib>=1.1.1 in /usr/local/lib/python3.10/dist-packages (from scikit-learn>=1.0.0->scikeras) (1.2.0)\n",
            "Installing collected packages: scikeras\n",
            "Successfully installed scikeras-0.10.0\n"
          ]
        }
      ]
    },
    {
      "cell_type": "code",
      "source": [
        "# import numpy as np \n",
        "# import matplotlib.pyplot as plt \n",
        "import tensorflow as tf\n",
        "from sklearn.model_selection import GridSearchCV\n",
        "# from tensorflow.keras.wrappers.scikit_learn import KerasClassifier\n",
        "from scikeras.wrappers import KerasClassifier\n",
        "# OS warning cure\n",
        "import os\n",
        "os.environ['TF_CPP_MIN_LOG_LEVEL'] = '3'\n",
        "\n",
        "# 데이터 세트 준비\n",
        "(train_images, train_labels), (test_images, test_labels) = tf.keras.datasets.mnist.load_data()\n",
        "\n",
        "train_images = train_images.reshape((60000, 28 * 28))\n",
        "train_images = train_images.astype('float32') / 255\n",
        "\n",
        "test_images = test_images.reshape((10000, 28 * 28))\n",
        "test_images = test_images.astype('float32') / 255\n",
        "\n",
        "train_labels = tf.keras.utils.to_categorical(train_labels)\n",
        "test_labels = tf.keras.utils.to_categorical(test_labels)\n",
        "                             \n",
        "# 신경망 모델 구축\n",
        "def build_model():\n",
        "    network = tf.keras.models.Sequential()\n",
        "    network.add(tf.keras.layers.Dense(512, activation='relu', input_shape=(28 * 28,)))\n",
        "    network.add(tf.keras.layers.Dense(10, activation='sigmoid'))\n",
        "\n",
        "    network.compile(optimizer='rmsprop',\n",
        "                loss='categorical_crossentropy',\n",
        "                metrics=['accuracy'])\n",
        "    return network\n",
        "\n",
        "# 하이퍼 매개변수 딕셔너리\n",
        "param_grid = {\n",
        "              'epochs':[1, 2, 3],\t# 에포크 수: 1, 2, 3\n",
        "              'batch_size':[32, 64, 100]\t# 배치 크기: 32, 64, 100\n",
        "             }\n",
        "\n",
        "# 케라스 모델을 scikeras에서 사용하도록 포장한다. \n",
        "model = KerasClassifier(model = build_model, verbose=1)\n",
        "\n",
        "## Elapsed time start\n",
        "import time\n",
        "start = time.time()\n",
        "\n",
        "# 그리드 검색\n",
        "gs = GridSearchCV(\n",
        "    estimator=model,\n",
        "    param_grid=param_grid, \n",
        "    cv=3, \n",
        "    # n_jobs=-1 # comment this line to avoid out-of-memory\n",
        ")\n",
        "\n",
        "# 그리드 검색 결과 출력\n",
        "grid_result = gs.fit(train_images, train_labels)\n",
        "\n",
        "## Elapsed time end\n",
        "end = time.time()\n",
        "print('Elapsed time:', end - start) # Elapsed time: 122.5, 189.5\n",
        "\n",
        "print(grid_result.best_score_) # 0.9725, 0.9711\n",
        "print(grid_result.best_params_) # {'batch_size': 64, 'epochs': 3}\n"
      ],
      "metadata": {
        "colab": {
          "base_uri": "https://localhost:8080/"
        },
        "id": "J1iYxznDO0W-",
        "outputId": "ebfcc079-6bc4-4952-e190-c9d25d4cb1a9"
      },
      "execution_count": 12,
      "outputs": [
        {
          "output_type": "stream",
          "name": "stdout",
          "text": [
            "1250/1250 [==============================] - 16s 12ms/step - loss: 0.2423 - accuracy: 0.9272\n",
            "625/625 [==============================] - 3s 4ms/step\n",
            "1250/1250 [==============================] - 9s 7ms/step - loss: 0.2380 - accuracy: 0.9302\n",
            "625/625 [==============================] - 2s 3ms/step\n",
            "1250/1250 [==============================] - 9s 7ms/step - loss: 0.2368 - accuracy: 0.9313\n",
            "625/625 [==============================] - 2s 2ms/step\n",
            "Epoch 1/2\n",
            "1250/1250 [==============================] - 9s 7ms/step - loss: 0.2399 - accuracy: 0.9283\n",
            "Epoch 2/2\n",
            "1250/1250 [==============================] - 9s 7ms/step - loss: 0.1029 - accuracy: 0.9693\n",
            "625/625 [==============================] - 2s 3ms/step\n",
            "Epoch 1/2\n",
            "1250/1250 [==============================] - 9s 7ms/step - loss: 0.2379 - accuracy: 0.9296\n",
            "Epoch 2/2\n",
            "1250/1250 [==============================] - 8s 6ms/step - loss: 0.1016 - accuracy: 0.9694\n",
            "625/625 [==============================] - 2s 3ms/step\n",
            "Epoch 1/2\n",
            "1250/1250 [==============================] - 9s 7ms/step - loss: 0.2378 - accuracy: 0.9292\n",
            "Epoch 2/2\n",
            "1250/1250 [==============================] - 8s 6ms/step - loss: 0.0980 - accuracy: 0.9710\n",
            "625/625 [==============================] - 2s 3ms/step\n",
            "Epoch 1/3\n",
            "1250/1250 [==============================] - 10s 7ms/step - loss: 0.2409 - accuracy: 0.9280\n",
            "Epoch 2/3\n",
            "1250/1250 [==============================] - 8s 6ms/step - loss: 0.1020 - accuracy: 0.9698\n",
            "Epoch 3/3\n",
            "1250/1250 [==============================] - 9s 7ms/step - loss: 0.0686 - accuracy: 0.9790\n",
            "625/625 [==============================] - 2s 2ms/step\n",
            "Epoch 1/3\n",
            "1250/1250 [==============================] - 9s 7ms/step - loss: 0.2394 - accuracy: 0.9292\n",
            "Epoch 2/3\n",
            "1250/1250 [==============================] - 9s 7ms/step - loss: 0.0999 - accuracy: 0.9699\n",
            "Epoch 3/3\n",
            "1250/1250 [==============================] - 8s 7ms/step - loss: 0.0665 - accuracy: 0.9791\n",
            "625/625 [==============================] - 2s 3ms/step\n",
            "Epoch 1/3\n",
            "1250/1250 [==============================] - 9s 7ms/step - loss: 0.2390 - accuracy: 0.9297\n",
            "Epoch 2/3\n",
            "1250/1250 [==============================] - 9s 7ms/step - loss: 0.0999 - accuracy: 0.9701\n",
            "Epoch 3/3\n",
            "1250/1250 [==============================] - 9s 7ms/step - loss: 0.0663 - accuracy: 0.9805\n",
            "625/625 [==============================] - 2s 3ms/step\n",
            "625/625 [==============================] - 6s 9ms/step - loss: 0.2682 - accuracy: 0.9211\n",
            "313/313 [==============================] - 1s 4ms/step\n",
            "625/625 [==============================] - 6s 9ms/step - loss: 0.2677 - accuracy: 0.9230\n",
            "313/313 [==============================] - 1s 3ms/step\n",
            "625/625 [==============================] - 5s 7ms/step - loss: 0.2672 - accuracy: 0.9218\n",
            "313/313 [==============================] - 2s 5ms/step\n",
            "Epoch 1/2\n",
            "625/625 [==============================] - 5s 7ms/step - loss: 0.2715 - accuracy: 0.9199\n",
            "Epoch 2/2\n",
            "625/625 [==============================] - 5s 8ms/step - loss: 0.1126 - accuracy: 0.9659\n",
            "313/313 [==============================] - 1s 4ms/step\n",
            "Epoch 1/2\n",
            "625/625 [==============================] - 5s 7ms/step - loss: 0.2659 - accuracy: 0.9222\n",
            "Epoch 2/2\n",
            "625/625 [==============================] - 6s 9ms/step - loss: 0.1112 - accuracy: 0.9666\n",
            "313/313 [==============================] - 1s 3ms/step\n",
            "Epoch 1/2\n",
            "625/625 [==============================] - 5s 7ms/step - loss: 0.2682 - accuracy: 0.9218\n",
            "Epoch 2/2\n",
            "625/625 [==============================] - 5s 9ms/step - loss: 0.1098 - accuracy: 0.9674\n",
            "313/313 [==============================] - 1s 4ms/step\n",
            "Epoch 1/3\n",
            "625/625 [==============================] - 5s 8ms/step - loss: 0.2713 - accuracy: 0.9203\n",
            "Epoch 2/3\n",
            "625/625 [==============================] - 5s 8ms/step - loss: 0.1126 - accuracy: 0.9664\n",
            "Epoch 3/3\n",
            "625/625 [==============================] - 5s 8ms/step - loss: 0.0746 - accuracy: 0.9773\n",
            "313/313 [==============================] - 1s 3ms/step\n",
            "Epoch 1/3\n",
            "625/625 [==============================] - 5s 7ms/step - loss: 0.2662 - accuracy: 0.9237\n",
            "Epoch 2/3\n",
            "625/625 [==============================] - 6s 9ms/step - loss: 0.1101 - accuracy: 0.9672\n",
            "Epoch 3/3\n",
            "625/625 [==============================] - 5s 7ms/step - loss: 0.0711 - accuracy: 0.9781\n",
            "313/313 [==============================] - 1s 3ms/step\n",
            "Epoch 1/3\n",
            "625/625 [==============================] - 5s 7ms/step - loss: 0.2670 - accuracy: 0.9222\n",
            "Epoch 2/3\n",
            "625/625 [==============================] - 6s 9ms/step - loss: 0.1097 - accuracy: 0.9672\n",
            "Epoch 3/3\n",
            "625/625 [==============================] - 5s 8ms/step - loss: 0.0704 - accuracy: 0.9792\n",
            "313/313 [==============================] - 2s 5ms/step\n",
            "400/400 [==============================] - 4s 9ms/step - loss: 0.3034 - accuracy: 0.9124\n",
            "200/200 [==============================] - 1s 4ms/step\n",
            "400/400 [==============================] - 5s 11ms/step - loss: 0.2960 - accuracy: 0.9137\n",
            "200/200 [==============================] - 1s 4ms/step\n",
            "400/400 [==============================] - 4s 9ms/step - loss: 0.2999 - accuracy: 0.9123\n",
            "200/200 [==============================] - 1s 4ms/step\n",
            "Epoch 1/2\n",
            "400/400 [==============================] - 5s 12ms/step - loss: 0.3001 - accuracy: 0.9130\n",
            "Epoch 2/2\n",
            "400/400 [==============================] - 4s 9ms/step - loss: 0.1273 - accuracy: 0.9620\n",
            "200/200 [==============================] - 1s 4ms/step\n",
            "Epoch 1/2\n",
            "400/400 [==============================] - 5s 11ms/step - loss: 0.2925 - accuracy: 0.9154\n",
            "Epoch 2/2\n",
            "400/400 [==============================] - 4s 10ms/step - loss: 0.1240 - accuracy: 0.9635\n",
            "200/200 [==============================] - 1s 4ms/step\n",
            "Epoch 1/2\n",
            "400/400 [==============================] - 4s 9ms/step - loss: 0.3009 - accuracy: 0.9129\n",
            "Epoch 2/2\n",
            "400/400 [==============================] - 4s 11ms/step - loss: 0.1253 - accuracy: 0.9631\n",
            "200/200 [==============================] - 1s 5ms/step\n",
            "Epoch 1/3\n",
            "400/400 [==============================] - 4s 9ms/step - loss: 0.3007 - accuracy: 0.9125\n",
            "Epoch 2/3\n",
            "400/400 [==============================] - 4s 9ms/step - loss: 0.1265 - accuracy: 0.9630\n",
            "Epoch 3/3\n",
            "400/400 [==============================] - 5s 12ms/step - loss: 0.0833 - accuracy: 0.9743\n",
            "200/200 [==============================] - 1s 4ms/step\n",
            "Epoch 1/3\n",
            "400/400 [==============================] - 4s 9ms/step - loss: 0.2919 - accuracy: 0.9158\n",
            "Epoch 2/3\n",
            "400/400 [==============================] - 4s 9ms/step - loss: 0.1217 - accuracy: 0.9643\n",
            "Epoch 3/3\n",
            "400/400 [==============================] - 5s 11ms/step - loss: 0.0791 - accuracy: 0.9765\n",
            "200/200 [==============================] - 1s 6ms/step\n",
            "Epoch 1/3\n",
            "400/400 [==============================] - 4s 9ms/step - loss: 0.2988 - accuracy: 0.9137\n",
            "Epoch 2/3\n",
            "400/400 [==============================] - 4s 9ms/step - loss: 0.1228 - accuracy: 0.9641\n",
            "Epoch 3/3\n",
            "400/400 [==============================] - 5s 12ms/step - loss: 0.0795 - accuracy: 0.9764\n",
            "200/200 [==============================] - 1s 4ms/step\n",
            "Epoch 1/3\n",
            "1875/1875 [==============================] - 14s 7ms/step - loss: 0.2024 - accuracy: 0.9403\n",
            "Epoch 2/3\n",
            "1875/1875 [==============================] - 13s 7ms/step - loss: 0.0859 - accuracy: 0.9741\n",
            "Epoch 3/3\n",
            "1875/1875 [==============================] - 13s 7ms/step - loss: 0.0588 - accuracy: 0.9823\n",
            "Elapsed time: 530.1173944473267\n",
            "0.9722666666666666\n",
            "{'batch_size': 32, 'epochs': 3}\n"
          ]
        }
      ]
    }
  ]
}